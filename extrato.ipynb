{
 "cells": [
  {
   "cell_type": "code",
   "execution_count": 26,
   "metadata": {},
   "outputs": [],
   "source": [
    "import pandas as pd\n",
    "import glob"
   ]
  },
  {
   "cell_type": "code",
   "execution_count": 27,
   "metadata": {},
   "outputs": [],
   "source": [
    "# dados base\n",
    "df_base = pd.concat([pd.read_excel(f) for f in glob.glob(\"extrato/*.xls*\")], ignore_index=True)\n",
    "df_base.columns = [\"Data\", \"Tipo\", \"Historico\", \"Valor\"]"
   ]
  },
  {
   "cell_type": "code",
   "execution_count": 28,
   "metadata": {},
   "outputs": [],
   "source": [
    "# filtro base \n",
    "df_filtro = df_base[\n",
    "    (df_base['Historico'] != 'HISTÓRICO') &\n",
    "    (df_base['Historico'].notna())\n",
    "   ]"
   ]
  },
  {
   "cell_type": "code",
   "execution_count": 29,
   "metadata": {},
   "outputs": [],
   "source": [
    "# tratamento de linhas abaixo de historico\n",
    "linhas_agrupadas = []\n",
    "temp = {}\n",
    "\n",
    "for _, row in df_filtro.iterrows():\n",
    "    if pd.notna(row[\"Data\"]): \n",
    "        if temp:\n",
    "            linhas_agrupadas.append(temp)\n",
    "        temp = {\n",
    "            \"Data\": row[\"Data\"],\n",
    "            \"Tipo\": row[\"Tipo\"],\n",
    "            \"Historico\": row[\"Historico\"],\n",
    "            \"Valor\": row[\"Valor\"],\n",
    "            \"SaldoDia\": \"\",\n",
    "            \"Extras\": []\n",
    "        }\n",
    "    else:\n",
    "        hist = str(row[\"Historico\"]) if pd.notna(row[\"Historico\"]) else \"\"\n",
    "        val = row[\"Valor\"]\n",
    "        if pd.notna(val):\n",
    "            temp[\"SaldoDia\"] = val\n",
    "        elif hist:\n",
    "            temp[\"Extras\"].append(hist)\n",
    "\n",
    "if temp:\n",
    "    linhas_agrupadas.append(temp)\n",
    "\n",
    "df_formatado = pd.DataFrame(linhas_agrupadas)\n",
    "df_formatado[\"Extras\"] = df_formatado[\"Extras\"].apply(lambda x: \" | \".join(x) if x else \"\")"
   ]
  },
  {
   "cell_type": "code",
   "execution_count": 30,
   "metadata": {},
   "outputs": [],
   "source": [
    "# coleta de saldos dia | dados base\n",
    "df_saldo_dia = df_formatado[df_formatado['SaldoDia'] != ''].copy()\n",
    "df_saldo_dia['Historico'] = \"SALDO DO DIA\"\n",
    "df_saldo_dia_form = df_saldo_dia.drop(columns=['Tipo', 'Valor', 'Extras'])\n",
    "df_saldo_dia_form.rename(columns={'SaldoDia': 'Valor'}, inplace=True)"
   ]
  },
  {
   "cell_type": "code",
   "execution_count": 31,
   "metadata": {},
   "outputs": [],
   "source": [
    "# coleta de saldos bloqueado e anterior | dados base\n",
    "df_saldo_info = df_formatado.drop(columns='SaldoDia')\n",
    "df_saldo_info_filtrado = df_saldo_info[df_saldo_info['Historico'].str.startswith('SALDO', na=False)]\n",
    "df_saldo_info_form = df_saldo_info_filtrado.drop(columns=['Tipo', 'Extras'])"
   ]
  },
  {
   "cell_type": "code",
   "execution_count": 32,
   "metadata": {},
   "outputs": [],
   "source": [
    "# mesclagem de todos os saldos | df_saldo_dia <> df_saldo_info\n",
    "df_saldo = pd.concat([df_saldo_dia_form, df_saldo_info_form], ignore_index=True)\n",
    "df_saldo_final = df_saldo.sort_values(by='Data', ascending=True)\n",
    "df_saldo_final.to_csv(\"output/saldo_final.csv\", index=False)"
   ]
  },
  {
   "cell_type": "code",
   "execution_count": 33,
   "metadata": {},
   "outputs": [],
   "source": [
    "# tabela base\n",
    "df_tabela = df_formatado[~df_formatado['Historico'].str.startswith('SALDO', na=False)]\n",
    "df_tabela_remove_colunas = df_tabela.drop(columns=\"SaldoDia\")\n"
   ]
  },
  {
   "cell_type": "code",
   "execution_count": 34,
   "metadata": {},
   "outputs": [],
   "source": [
    "df_tabela_remove_colunas.to_csv(\"output/extrato.csv\", index=False)"
   ]
  }
 ],
 "metadata": {
  "kernelspec": {
   "display_name": "env",
   "language": "python",
   "name": "python3"
  },
  "language_info": {
   "codemirror_mode": {
    "name": "ipython",
    "version": 3
   },
   "file_extension": ".py",
   "mimetype": "text/x-python",
   "name": "python",
   "nbconvert_exporter": "python",
   "pygments_lexer": "ipython3",
   "version": "3.13.4"
  }
 },
 "nbformat": 4,
 "nbformat_minor": 2
}
