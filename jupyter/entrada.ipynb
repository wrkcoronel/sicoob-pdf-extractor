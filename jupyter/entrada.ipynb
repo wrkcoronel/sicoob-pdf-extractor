{
 "cells": [
  {
   "cell_type": "code",
   "execution_count": 8,
   "id": "5fb6f0fd",
   "metadata": {},
   "outputs": [],
   "source": [
    "import pandas as pd\n",
    "import os\n",
    "import win32com.client"
   ]
  },
  {
   "cell_type": "code",
   "execution_count": 9,
   "id": "9479b39f",
   "metadata": {},
   "outputs": [],
   "source": [
    "# atualização do powerquerry\n",
    "arquivo = os.path.abspath(\"powerquerry/entrada-pdf.xlsb\")\n",
    "excel = win32com.client.Dispatch(\"Excel.Application\")\n",
    "excel.Visible = False\n",
    "\n",
    "workbook = excel.Workbooks.Open(arquivo)\n",
    "workbook.RefreshAll()\n",
    "excel.CalculateUntilAsyncQueriesDone()\n",
    "\n",
    "workbook.Save()\n",
    "workbook.Close()\n",
    "excel.Quit()"
   ]
  },
  {
   "cell_type": "code",
   "execution_count": 11,
   "id": "63140c4c",
   "metadata": {},
   "outputs": [],
   "source": [
    "df = pd.read_excel(\"powerquerry/entrada-pdf.xlsb\")\n",
    "df.to_csv(\"dados/output/entrada.csv\")"
   ]
  }
 ],
 "metadata": {
  "kernelspec": {
   "display_name": "Python 3",
   "language": "python",
   "name": "python3"
  },
  "language_info": {
   "codemirror_mode": {
    "name": "ipython",
    "version": 3
   },
   "file_extension": ".py",
   "mimetype": "text/x-python",
   "name": "python",
   "nbconvert_exporter": "python",
   "pygments_lexer": "ipython3",
   "version": "3.13.5"
  }
 },
 "nbformat": 4,
 "nbformat_minor": 5
}
