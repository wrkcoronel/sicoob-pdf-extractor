{
 "cells": [
  {
   "cell_type": "code",
   "execution_count": 1,
   "id": "3e6b491e",
   "metadata": {},
   "outputs": [],
   "source": [
    "import pandas as pd\n",
    "import glob"
   ]
  },
  {
   "cell_type": "code",
   "execution_count": null,
   "id": "8788a888",
   "metadata": {},
   "outputs": [],
   "source": [
    "# pagamento pix/pag\n",
    "df_pagamento = pd.concat([pd.read_excel(f) for f in glob.glob(\"dados/input/pix/pag/*.xls*\")], ignore_index=True)\n",
    "\n",
    "# recebimento pix/rec\n",
    "df_recebimento = pd.concat([pd.read_excel(f) for f in glob.glob(\"dados/input/pix/rec/*.xls*\")], ignore_index=True)"
   ]
  },
  {
   "cell_type": "code",
   "execution_count": 3,
   "id": "1cb3c4b0",
   "metadata": {},
   "outputs": [],
   "source": [
    "# pagamento fazendo cabeçalho\n",
    "df_pagamento.columns = df_pagamento.iloc[7]\n",
    "df_pagamento_cabecalho = df_pagamento[8:]\n",
    "\n",
    "# recebimento fazendo cabeçalho\n",
    "df_recebimento.columns = df_recebimento.iloc[7]\n",
    "df_recebimento_cabecalho = df_recebimento[8:]"
   ]
  },
  {
   "cell_type": "code",
   "execution_count": 4,
   "id": "0d70af02",
   "metadata": {},
   "outputs": [],
   "source": [
    "# pagamento filtrando linhas e colunas\n",
    "df_pagamento_filtro_linhas = df_pagamento_cabecalho[df_pagamento_cabecalho[df_pagamento_cabecalho.columns[3]].notna()]\n",
    "df_pagamento_filtro_colunas = df_pagamento_filtro_linhas.drop(columns=['ID Transação', 'Histórico', 'Instituição do Destinatário', 'Tipo de Chave', 'Chave do Destinatário', 'Identificador (TxID)'])\n",
    "\n",
    "# recebimento filtrando linhas e colunas\n",
    "df_recebimento_filtro_linha = df_recebimento_cabecalho[df_recebimento_cabecalho[df_recebimento_cabecalho.columns[3]].notna()]\n",
    "df_recebimento_filtro_coluna = df_recebimento_filtro_linha.drop(columns=['ID Transação', 'Histórico', 'Instituição do Pagador', 'Identificador (TxID)'])"
   ]
  },
  {
   "cell_type": "code",
   "execution_count": 5,
   "id": "cfa23d57",
   "metadata": {},
   "outputs": [],
   "source": [
    "# pagamento nova coluna \n",
    "df_pagamento_add_coluna = df_pagamento_filtro_colunas.rename(columns={\"Nome de Destinatário\":\"Nome\"})\n",
    "df_pagamento_add_coluna[\"Histórico\"] = \"Pagamento Pix\"\n",
    "\n",
    "# recebimento nova coluna \n",
    "df_recebimento_add_coluna = df_recebimento_filtro_coluna.rename(columns={\"Nome do Pagador\":\"Nome\"})\n",
    "df_recebimento_add_coluna[\"Histórico\"] = \"Recebimento Pix\""
   ]
  },
  {
   "cell_type": "code",
   "execution_count": null,
   "id": "4e160424",
   "metadata": {},
   "outputs": [],
   "source": [
    "df_pix = pd.concat([df_pagamento_add_coluna, df_recebimento_add_coluna], ignore_index=True)\n",
    "df_pix.to_csv(\"dados/output/pix.csv\", index=False)"
   ]
  }
 ],
 "metadata": {
  "kernelspec": {
   "display_name": "Python 3",
   "language": "python",
   "name": "python3"
  },
  "language_info": {
   "codemirror_mode": {
    "name": "ipython",
    "version": 3
   },
   "file_extension": ".py",
   "mimetype": "text/x-python",
   "name": "python",
   "nbconvert_exporter": "python",
   "pygments_lexer": "ipython3",
   "version": "3.13.5"
  }
 },
 "nbformat": 4,
 "nbformat_minor": 5
}
